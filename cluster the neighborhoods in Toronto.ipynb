{
 "cells": [
  {
   "cell_type": "markdown",
   "metadata": {
    "collapsed": true
   },
   "source": [
    "# Cluster the neighborhoods in Toronto\n",
    "## In this section we will Use the Notebook to build the code to scrape the following Wikipedia page"
   ]
  },
  {
   "cell_type": "markdown",
   "metadata": {},
   "source": [
    "Import necessary packages."
   ]
  },
  {
   "cell_type": "code",
   "execution_count": 33,
   "metadata": {},
   "outputs": [],
   "source": [
    "import pandas as pd \n",
    "import numpy as np\n"
   ]
  },
  {
   "cell_type": "code",
   "execution_count": 34,
   "metadata": {},
   "outputs": [
    {
     "name": "stdout",
     "output_type": "stream",
     "text": [
      "Requirement already satisfied: html5lib in /opt/conda/envs/Python-3.7-main/lib/python3.7/site-packages (1.1)\n",
      "Requirement already satisfied: six>=1.9 in /opt/conda/envs/Python-3.7-main/lib/python3.7/site-packages (from html5lib) (1.15.0)\n",
      "Requirement already satisfied: webencodings in /opt/conda/envs/Python-3.7-main/lib/python3.7/site-packages (from html5lib) (0.5.1)\n",
      "Requirement already satisfied: lxml in /opt/conda/envs/Python-3.7-main/lib/python3.7/site-packages (4.5.1)\n",
      "Requirement already satisfied: beautifulSoup4 in /opt/conda/envs/Python-3.7-main/lib/python3.7/site-packages (4.9.1)\n",
      "Requirement already satisfied: soupsieve>1.2 in /opt/conda/envs/Python-3.7-main/lib/python3.7/site-packages (from beautifulSoup4) (2.0.1)\n",
      "Requirement already satisfied: folium in /opt/conda/envs/Python-3.7-main/lib/python3.7/site-packages (0.11.0)\n",
      "Requirement already satisfied: branca>=0.3.0 in /opt/conda/envs/Python-3.7-main/lib/python3.7/site-packages (from folium) (0.4.1)\n",
      "Requirement already satisfied: requests in /opt/conda/envs/Python-3.7-main/lib/python3.7/site-packages (from folium) (2.24.0)\n",
      "Requirement already satisfied: numpy in /opt/conda/envs/Python-3.7-main/lib/python3.7/site-packages (from folium) (1.18.5)\n",
      "Requirement already satisfied: jinja2>=2.9 in /opt/conda/envs/Python-3.7-main/lib/python3.7/site-packages (from folium) (2.11.2)\n",
      "Requirement already satisfied: chardet<4,>=3.0.2 in /opt/conda/envs/Python-3.7-main/lib/python3.7/site-packages (from requests->folium) (3.0.4)\n",
      "Requirement already satisfied: urllib3!=1.25.0,!=1.25.1,<1.26,>=1.21.1 in /opt/conda/envs/Python-3.7-main/lib/python3.7/site-packages (from requests->folium) (1.25.9)\n",
      "Requirement already satisfied: certifi>=2017.4.17 in /opt/conda/envs/Python-3.7-main/lib/python3.7/site-packages (from requests->folium) (2020.12.5)\n",
      "Requirement already satisfied: idna<3,>=2.5 in /opt/conda/envs/Python-3.7-main/lib/python3.7/site-packages (from requests->folium) (2.9)\n",
      "Requirement already satisfied: MarkupSafe>=0.23 in /opt/conda/envs/Python-3.7-main/lib/python3.7/site-packages (from jinja2>=2.9->folium) (1.1.1)\n"
     ]
    }
   ],
   "source": [
    "!pip install html5lib\n",
    "!pip install lxml\n",
    "!pip install beautifulSoup4\n",
    "!pip install folium"
   ]
  },
  {
   "cell_type": "markdown",
   "metadata": {},
   "source": [
    "Scrape the Wikipedia page."
   ]
  },
  {
   "cell_type": "code",
   "execution_count": 35,
   "metadata": {},
   "outputs": [
    {
     "data": {
      "text/html": [
       "<div>\n",
       "<style scoped>\n",
       "    .dataframe tbody tr th:only-of-type {\n",
       "        vertical-align: middle;\n",
       "    }\n",
       "\n",
       "    .dataframe tbody tr th {\n",
       "        vertical-align: top;\n",
       "    }\n",
       "\n",
       "    .dataframe thead th {\n",
       "        text-align: right;\n",
       "    }\n",
       "</style>\n",
       "<table border=\"1\" class=\"dataframe\">\n",
       "  <thead>\n",
       "    <tr style=\"text-align: right;\">\n",
       "      <th></th>\n",
       "      <th>Postal Code</th>\n",
       "      <th>Borough</th>\n",
       "      <th>Neighbourhood</th>\n",
       "    </tr>\n",
       "  </thead>\n",
       "  <tbody>\n",
       "    <tr>\n",
       "      <th>0</th>\n",
       "      <td>M1A</td>\n",
       "      <td>Not assigned</td>\n",
       "      <td>Not assigned</td>\n",
       "    </tr>\n",
       "    <tr>\n",
       "      <th>1</th>\n",
       "      <td>M2A</td>\n",
       "      <td>Not assigned</td>\n",
       "      <td>Not assigned</td>\n",
       "    </tr>\n",
       "    <tr>\n",
       "      <th>2</th>\n",
       "      <td>M3A</td>\n",
       "      <td>North York</td>\n",
       "      <td>Parkwoods</td>\n",
       "    </tr>\n",
       "    <tr>\n",
       "      <th>3</th>\n",
       "      <td>M4A</td>\n",
       "      <td>North York</td>\n",
       "      <td>Victoria Village</td>\n",
       "    </tr>\n",
       "    <tr>\n",
       "      <th>4</th>\n",
       "      <td>M5A</td>\n",
       "      <td>Downtown Toronto</td>\n",
       "      <td>Regent Park, Harbourfront</td>\n",
       "    </tr>\n",
       "  </tbody>\n",
       "</table>\n",
       "</div>"
      ],
      "text/plain": [
       "  Postal Code           Borough              Neighbourhood\n",
       "0         M1A      Not assigned               Not assigned\n",
       "1         M2A      Not assigned               Not assigned\n",
       "2         M3A        North York                  Parkwoods\n",
       "3         M4A        North York           Victoria Village\n",
       "4         M5A  Downtown Toronto  Regent Park, Harbourfront"
      ]
     },
     "execution_count": 35,
     "metadata": {},
     "output_type": "execute_result"
    }
   ],
   "source": [
    "data=pd.read_html(\"https://en.wikipedia.org/wiki/List_of_postal_codes_of_Canada:_M\")[0]\n",
    "data.head(5)"
   ]
  },
  {
   "cell_type": "markdown",
   "metadata": {},
   "source": [
    "Remove \"Not assigned\" at the end of each string in the Neighborhood column"
   ]
  },
  {
   "cell_type": "code",
   "execution_count": 36,
   "metadata": {},
   "outputs": [
    {
     "data": {
      "text/html": [
       "<div>\n",
       "<style scoped>\n",
       "    .dataframe tbody tr th:only-of-type {\n",
       "        vertical-align: middle;\n",
       "    }\n",
       "\n",
       "    .dataframe tbody tr th {\n",
       "        vertical-align: top;\n",
       "    }\n",
       "\n",
       "    .dataframe thead th {\n",
       "        text-align: right;\n",
       "    }\n",
       "</style>\n",
       "<table border=\"1\" class=\"dataframe\">\n",
       "  <thead>\n",
       "    <tr style=\"text-align: right;\">\n",
       "      <th></th>\n",
       "      <th>Postal Code</th>\n",
       "      <th>Borough</th>\n",
       "      <th>Neighbourhood</th>\n",
       "    </tr>\n",
       "  </thead>\n",
       "  <tbody>\n",
       "    <tr>\n",
       "      <th>2</th>\n",
       "      <td>M3A</td>\n",
       "      <td>North York</td>\n",
       "      <td>Parkwoods</td>\n",
       "    </tr>\n",
       "    <tr>\n",
       "      <th>3</th>\n",
       "      <td>M4A</td>\n",
       "      <td>North York</td>\n",
       "      <td>Victoria Village</td>\n",
       "    </tr>\n",
       "    <tr>\n",
       "      <th>4</th>\n",
       "      <td>M5A</td>\n",
       "      <td>Downtown Toronto</td>\n",
       "      <td>Regent Park, Harbourfront</td>\n",
       "    </tr>\n",
       "    <tr>\n",
       "      <th>5</th>\n",
       "      <td>M6A</td>\n",
       "      <td>North York</td>\n",
       "      <td>Lawrence Manor, Lawrence Heights</td>\n",
       "    </tr>\n",
       "    <tr>\n",
       "      <th>6</th>\n",
       "      <td>M7A</td>\n",
       "      <td>Downtown Toronto</td>\n",
       "      <td>Queen's Park, Ontario Provincial Government</td>\n",
       "    </tr>\n",
       "  </tbody>\n",
       "</table>\n",
       "</div>"
      ],
      "text/plain": [
       "  Postal Code           Borough                                Neighbourhood\n",
       "2         M3A        North York                                    Parkwoods\n",
       "3         M4A        North York                             Victoria Village\n",
       "4         M5A  Downtown Toronto                    Regent Park, Harbourfront\n",
       "5         M6A        North York             Lawrence Manor, Lawrence Heights\n",
       "6         M7A  Downtown Toronto  Queen's Park, Ontario Provincial Government"
      ]
     },
     "execution_count": 36,
     "metadata": {},
     "output_type": "execute_result"
    }
   ],
   "source": [
    "data = data.drop(data[(data.Borough == \"Not assigned\")].index)\n",
    "data.Neighbourhood.replace(\"Not assigned\", data.Borough, inplace=True)\n",
    "data.head()"
   ]
  },
  {
   "cell_type": "code",
   "execution_count": 37,
   "metadata": {},
   "outputs": [
    {
     "data": {
      "text/html": [
       "<div>\n",
       "<style scoped>\n",
       "    .dataframe tbody tr th:only-of-type {\n",
       "        vertical-align: middle;\n",
       "    }\n",
       "\n",
       "    .dataframe tbody tr th {\n",
       "        vertical-align: top;\n",
       "    }\n",
       "\n",
       "    .dataframe thead th {\n",
       "        text-align: right;\n",
       "    }\n",
       "</style>\n",
       "<table border=\"1\" class=\"dataframe\">\n",
       "  <thead>\n",
       "    <tr style=\"text-align: right;\">\n",
       "      <th></th>\n",
       "      <th>Postal Code</th>\n",
       "      <th>Borough</th>\n",
       "      <th>Neighbourhood</th>\n",
       "    </tr>\n",
       "  </thead>\n",
       "  <tbody>\n",
       "    <tr>\n",
       "      <th>2</th>\n",
       "      <td>M3A</td>\n",
       "      <td>North York</td>\n",
       "      <td>Parkwoods</td>\n",
       "    </tr>\n",
       "    <tr>\n",
       "      <th>3</th>\n",
       "      <td>M4A</td>\n",
       "      <td>North York</td>\n",
       "      <td>Victoria Village</td>\n",
       "    </tr>\n",
       "    <tr>\n",
       "      <th>4</th>\n",
       "      <td>M5A</td>\n",
       "      <td>Downtown Toronto</td>\n",
       "      <td>Regent Park, Harbourfront</td>\n",
       "    </tr>\n",
       "    <tr>\n",
       "      <th>5</th>\n",
       "      <td>M6A</td>\n",
       "      <td>North York</td>\n",
       "      <td>Lawrence Manor, Lawrence Heights</td>\n",
       "    </tr>\n",
       "    <tr>\n",
       "      <th>6</th>\n",
       "      <td>M7A</td>\n",
       "      <td>Downtown Toronto</td>\n",
       "      <td>Queen's Park, Ontario Provincial Government</td>\n",
       "    </tr>\n",
       "  </tbody>\n",
       "</table>\n",
       "</div>"
      ],
      "text/plain": [
       "  Postal Code           Borough                                Neighbourhood\n",
       "2         M3A        North York                                    Parkwoods\n",
       "3         M4A        North York                             Victoria Village\n",
       "4         M5A  Downtown Toronto                    Regent Park, Harbourfront\n",
       "5         M6A        North York             Lawrence Manor, Lawrence Heights\n",
       "6         M7A  Downtown Toronto  Queen's Park, Ontario Provincial Government"
      ]
     },
     "execution_count": 37,
     "metadata": {},
     "output_type": "execute_result"
    }
   ],
   "source": [
    "data.Neighbourhood.fillna(data.Borough, inplace=True)\n",
    "data=data.drop_duplicates()\n",
    "data.head()"
   ]
  },
  {
   "cell_type": "markdown",
   "metadata": {},
   "source": [
    "Group all neighborhoods with the same postal code"
   ]
  },
  {
   "cell_type": "code",
   "execution_count": 38,
   "metadata": {},
   "outputs": [
    {
     "data": {
      "text/html": [
       "<div>\n",
       "<style scoped>\n",
       "    .dataframe tbody tr th:only-of-type {\n",
       "        vertical-align: middle;\n",
       "    }\n",
       "\n",
       "    .dataframe tbody tr th {\n",
       "        vertical-align: top;\n",
       "    }\n",
       "\n",
       "    .dataframe thead th {\n",
       "        text-align: right;\n",
       "    }\n",
       "</style>\n",
       "<table border=\"1\" class=\"dataframe\">\n",
       "  <thead>\n",
       "    <tr style=\"text-align: right;\">\n",
       "      <th></th>\n",
       "      <th>Postal Code</th>\n",
       "      <th>Borough</th>\n",
       "      <th>Neighbourhood</th>\n",
       "    </tr>\n",
       "  </thead>\n",
       "  <tbody>\n",
       "    <tr>\n",
       "      <th>0</th>\n",
       "      <td>M1B</td>\n",
       "      <td>Scarborough</td>\n",
       "      <td>Malvern, Rouge</td>\n",
       "    </tr>\n",
       "    <tr>\n",
       "      <th>1</th>\n",
       "      <td>M1C</td>\n",
       "      <td>Scarborough</td>\n",
       "      <td>Rouge Hill, Port Union, Highland Creek</td>\n",
       "    </tr>\n",
       "    <tr>\n",
       "      <th>2</th>\n",
       "      <td>M1E</td>\n",
       "      <td>Scarborough</td>\n",
       "      <td>Guildwood, Morningside, West Hill</td>\n",
       "    </tr>\n",
       "    <tr>\n",
       "      <th>3</th>\n",
       "      <td>M1G</td>\n",
       "      <td>Scarborough</td>\n",
       "      <td>Woburn</td>\n",
       "    </tr>\n",
       "    <tr>\n",
       "      <th>4</th>\n",
       "      <td>M1H</td>\n",
       "      <td>Scarborough</td>\n",
       "      <td>Cedarbrae</td>\n",
       "    </tr>\n",
       "  </tbody>\n",
       "</table>\n",
       "</div>"
      ],
      "text/plain": [
       "  Postal Code      Borough                           Neighbourhood\n",
       "0         M1B  Scarborough                          Malvern, Rouge\n",
       "1         M1C  Scarborough  Rouge Hill, Port Union, Highland Creek\n",
       "2         M1E  Scarborough       Guildwood, Morningside, West Hill\n",
       "3         M1G  Scarborough                                  Woburn\n",
       "4         M1H  Scarborough                               Cedarbrae"
      ]
     },
     "execution_count": 38,
     "metadata": {},
     "output_type": "execute_result"
    }
   ],
   "source": [
    "data = data.groupby([\"Postal Code\", \"Borough\"])[\"Neighbourhood\"].apply(\", \".join).reset_index()\n",
    "data.head()"
   ]
  },
  {
   "cell_type": "code",
   "execution_count": 39,
   "metadata": {},
   "outputs": [
    {
     "name": "stdout",
     "output_type": "stream",
     "text": [
      "Data shape : (103, 3)\n"
     ]
    }
   ],
   "source": [
    "print(\"Data shape :\",data.shape)"
   ]
  },
  {
   "cell_type": "markdown",
   "metadata": {},
   "source": [
    "# 3. Get the latitude and the longitude coordinates of each neighborhood.¶\n"
   ]
  },
  {
   "cell_type": "code",
   "execution_count": 40,
   "metadata": {},
   "outputs": [
    {
     "data": {
      "text/html": [
       "<div>\n",
       "<style scoped>\n",
       "    .dataframe tbody tr th:only-of-type {\n",
       "        vertical-align: middle;\n",
       "    }\n",
       "\n",
       "    .dataframe tbody tr th {\n",
       "        vertical-align: top;\n",
       "    }\n",
       "\n",
       "    .dataframe thead th {\n",
       "        text-align: right;\n",
       "    }\n",
       "</style>\n",
       "<table border=\"1\" class=\"dataframe\">\n",
       "  <thead>\n",
       "    <tr style=\"text-align: right;\">\n",
       "      <th></th>\n",
       "      <th>Postal Code</th>\n",
       "      <th>Latitude</th>\n",
       "      <th>Longitude</th>\n",
       "    </tr>\n",
       "  </thead>\n",
       "  <tbody>\n",
       "    <tr>\n",
       "      <th>0</th>\n",
       "      <td>M1B</td>\n",
       "      <td>43.806686</td>\n",
       "      <td>-79.194353</td>\n",
       "    </tr>\n",
       "    <tr>\n",
       "      <th>1</th>\n",
       "      <td>M1C</td>\n",
       "      <td>43.784535</td>\n",
       "      <td>-79.160497</td>\n",
       "    </tr>\n",
       "    <tr>\n",
       "      <th>2</th>\n",
       "      <td>M1E</td>\n",
       "      <td>43.763573</td>\n",
       "      <td>-79.188711</td>\n",
       "    </tr>\n",
       "    <tr>\n",
       "      <th>3</th>\n",
       "      <td>M1G</td>\n",
       "      <td>43.770992</td>\n",
       "      <td>-79.216917</td>\n",
       "    </tr>\n",
       "    <tr>\n",
       "      <th>4</th>\n",
       "      <td>M1H</td>\n",
       "      <td>43.773136</td>\n",
       "      <td>-79.239476</td>\n",
       "    </tr>\n",
       "  </tbody>\n",
       "</table>\n",
       "</div>"
      ],
      "text/plain": [
       "  Postal Code   Latitude  Longitude\n",
       "0         M1B  43.806686 -79.194353\n",
       "1         M1C  43.784535 -79.160497\n",
       "2         M1E  43.763573 -79.188711\n",
       "3         M1G  43.770992 -79.216917\n",
       "4         M1H  43.773136 -79.239476"
      ]
     },
     "execution_count": 40,
     "metadata": {},
     "output_type": "execute_result"
    }
   ],
   "source": [
    "data_geo = pd.read_csv(\"https://cocl.us/Geospatial_data\")\n",
    "data_geo.head()"
   ]
  },
  {
   "cell_type": "markdown",
   "metadata": {},
   "source": [
    "We need to merge 2 dataframes \"data\" and \"df_geo\" into one dataframe."
   ]
  },
  {
   "cell_type": "code",
   "execution_count": 41,
   "metadata": {},
   "outputs": [
    {
     "data": {
      "text/html": [
       "<div>\n",
       "<style scoped>\n",
       "    .dataframe tbody tr th:only-of-type {\n",
       "        vertical-align: middle;\n",
       "    }\n",
       "\n",
       "    .dataframe tbody tr th {\n",
       "        vertical-align: top;\n",
       "    }\n",
       "\n",
       "    .dataframe thead th {\n",
       "        text-align: right;\n",
       "    }\n",
       "</style>\n",
       "<table border=\"1\" class=\"dataframe\">\n",
       "  <thead>\n",
       "    <tr style=\"text-align: right;\">\n",
       "      <th></th>\n",
       "      <th>Postal Code</th>\n",
       "      <th>Borough</th>\n",
       "      <th>Neighbourhood</th>\n",
       "      <th>Latitude</th>\n",
       "      <th>Longitude</th>\n",
       "    </tr>\n",
       "  </thead>\n",
       "  <tbody>\n",
       "    <tr>\n",
       "      <th>0</th>\n",
       "      <td>M1B</td>\n",
       "      <td>Scarborough</td>\n",
       "      <td>Malvern, Rouge</td>\n",
       "      <td>43.806686</td>\n",
       "      <td>-79.194353</td>\n",
       "    </tr>\n",
       "    <tr>\n",
       "      <th>1</th>\n",
       "      <td>M1C</td>\n",
       "      <td>Scarborough</td>\n",
       "      <td>Rouge Hill, Port Union, Highland Creek</td>\n",
       "      <td>43.784535</td>\n",
       "      <td>-79.160497</td>\n",
       "    </tr>\n",
       "    <tr>\n",
       "      <th>2</th>\n",
       "      <td>M1E</td>\n",
       "      <td>Scarborough</td>\n",
       "      <td>Guildwood, Morningside, West Hill</td>\n",
       "      <td>43.763573</td>\n",
       "      <td>-79.188711</td>\n",
       "    </tr>\n",
       "    <tr>\n",
       "      <th>3</th>\n",
       "      <td>M1G</td>\n",
       "      <td>Scarborough</td>\n",
       "      <td>Woburn</td>\n",
       "      <td>43.770992</td>\n",
       "      <td>-79.216917</td>\n",
       "    </tr>\n",
       "    <tr>\n",
       "      <th>4</th>\n",
       "      <td>M1H</td>\n",
       "      <td>Scarborough</td>\n",
       "      <td>Cedarbrae</td>\n",
       "      <td>43.773136</td>\n",
       "      <td>-79.239476</td>\n",
       "    </tr>\n",
       "  </tbody>\n",
       "</table>\n",
       "</div>"
      ],
      "text/plain": [
       "  Postal Code      Borough                           Neighbourhood   Latitude  \\\n",
       "0         M1B  Scarborough                          Malvern, Rouge  43.806686   \n",
       "1         M1C  Scarborough  Rouge Hill, Port Union, Highland Creek  43.784535   \n",
       "2         M1E  Scarborough       Guildwood, Morningside, West Hill  43.763573   \n",
       "3         M1G  Scarborough                                  Woburn  43.770992   \n",
       "4         M1H  Scarborough                               Cedarbrae  43.773136   \n",
       "\n",
       "   Longitude  \n",
       "0 -79.194353  \n",
       "1 -79.160497  \n",
       "2 -79.188711  \n",
       "3 -79.216917  \n",
       "4 -79.239476  "
      ]
     },
     "execution_count": 41,
     "metadata": {},
     "output_type": "execute_result"
    }
   ],
   "source": [
    "newdata=pd.merge(data,data_geo)\n",
    "newdata.head()"
   ]
  },
  {
   "cell_type": "markdown",
   "metadata": {},
   "source": [
    "Getting all the rows from the data frame which contains Toronto in their Borough.\n"
   ]
  },
  {
   "cell_type": "code",
   "execution_count": 42,
   "metadata": {},
   "outputs": [
    {
     "data": {
      "text/html": [
       "<div>\n",
       "<style scoped>\n",
       "    .dataframe tbody tr th:only-of-type {\n",
       "        vertical-align: middle;\n",
       "    }\n",
       "\n",
       "    .dataframe tbody tr th {\n",
       "        vertical-align: top;\n",
       "    }\n",
       "\n",
       "    .dataframe thead th {\n",
       "        text-align: right;\n",
       "    }\n",
       "</style>\n",
       "<table border=\"1\" class=\"dataframe\">\n",
       "  <thead>\n",
       "    <tr style=\"text-align: right;\">\n",
       "      <th></th>\n",
       "      <th>Postal Code</th>\n",
       "      <th>Borough</th>\n",
       "      <th>Neighbourhood</th>\n",
       "      <th>Latitude</th>\n",
       "      <th>Longitude</th>\n",
       "    </tr>\n",
       "  </thead>\n",
       "  <tbody>\n",
       "    <tr>\n",
       "      <th>37</th>\n",
       "      <td>M4E</td>\n",
       "      <td>East Toronto</td>\n",
       "      <td>The Beaches</td>\n",
       "      <td>43.676357</td>\n",
       "      <td>-79.293031</td>\n",
       "    </tr>\n",
       "    <tr>\n",
       "      <th>41</th>\n",
       "      <td>M4K</td>\n",
       "      <td>East Toronto</td>\n",
       "      <td>The Danforth West, Riverdale</td>\n",
       "      <td>43.679557</td>\n",
       "      <td>-79.352188</td>\n",
       "    </tr>\n",
       "    <tr>\n",
       "      <th>42</th>\n",
       "      <td>M4L</td>\n",
       "      <td>East Toronto</td>\n",
       "      <td>India Bazaar, The Beaches West</td>\n",
       "      <td>43.668999</td>\n",
       "      <td>-79.315572</td>\n",
       "    </tr>\n",
       "    <tr>\n",
       "      <th>43</th>\n",
       "      <td>M4M</td>\n",
       "      <td>East Toronto</td>\n",
       "      <td>Studio District</td>\n",
       "      <td>43.659526</td>\n",
       "      <td>-79.340923</td>\n",
       "    </tr>\n",
       "    <tr>\n",
       "      <th>44</th>\n",
       "      <td>M4N</td>\n",
       "      <td>Central Toronto</td>\n",
       "      <td>Lawrence Park</td>\n",
       "      <td>43.728020</td>\n",
       "      <td>-79.388790</td>\n",
       "    </tr>\n",
       "  </tbody>\n",
       "</table>\n",
       "</div>"
      ],
      "text/plain": [
       "   Postal Code          Borough                   Neighbourhood   Latitude  \\\n",
       "37         M4E     East Toronto                     The Beaches  43.676357   \n",
       "41         M4K     East Toronto    The Danforth West, Riverdale  43.679557   \n",
       "42         M4L     East Toronto  India Bazaar, The Beaches West  43.668999   \n",
       "43         M4M     East Toronto                 Studio District  43.659526   \n",
       "44         M4N  Central Toronto                   Lawrence Park  43.728020   \n",
       "\n",
       "    Longitude  \n",
       "37 -79.293031  \n",
       "41 -79.352188  \n",
       "42 -79.315572  \n",
       "43 -79.340923  \n",
       "44 -79.388790  "
      ]
     },
     "execution_count": 42,
     "metadata": {},
     "output_type": "execute_result"
    }
   ],
   "source": [
    "data_toronto = newdata[newdata['Borough'].str.contains('Toronto',regex=False)]\n",
    "data_toronto.head()"
   ]
  },
  {
   "cell_type": "markdown",
   "metadata": {},
   "source": [
    "Visualizing all the Neighbourhoods of the above data frame using Folium"
   ]
  },
  {
   "cell_type": "code",
   "execution_count": 43,
   "metadata": {},
   "outputs": [
    {
     "data": {
      "text/html": [
       "<div style=\"width:100%;\"><div style=\"position:relative;width:100%;height:0;padding-bottom:60%;\"><span style=\"color:#565656\">Make this Notebook Trusted to load map: File -> Trust Notebook</span><iframe src=\"about:blank\" style=\"position:absolute;width:100%;height:100%;left:0;top:0;border:none !important;\" data-html=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 onload=\"this.contentDocument.open();this.contentDocument.write(atob(this.getAttribute('data-html')));this.contentDocument.close();\" allowfullscreen webkitallowfullscreen mozallowfullscreen></iframe></div></div>"
      ],
      "text/plain": [
       "<folium.folium.Map at 0x7f1a440fdd10>"
      ]
     },
     "execution_count": 43,
     "metadata": {},
     "output_type": "execute_result"
    }
   ],
   "source": [
    "import folium \n",
    "\n",
    "map_toronto = folium.Map(location=[43.651070,-79.347015],zoom_start=10)\n",
    "\n",
    "for lat,lng,borough,neighbourhood in zip(data_toronto['Latitude'],data_toronto['Longitude'],data_toronto['Borough'],data_toronto['Neighbourhood']):\n",
    "    label = '{}, {}'.format(neighbourhood, borough)\n",
    "    label = folium.Popup(label, parse_html=True)\n",
    "    folium.CircleMarker(\n",
    "    [lat,lng],\n",
    "    radius=5,\n",
    "    popup=label,\n",
    "    color='blue',\n",
    "    fill=True,\n",
    "    fill_color='#3186cc',\n",
    "    fill_opacity=0.7,\n",
    "    parse_html=False).add_to(map_toronto)\n",
    "map_toronto\n"
   ]
  },
  {
   "cell_type": "markdown",
   "metadata": {},
   "source": [
    "Using KMeans clustering for the clsutering of the neighbourhoods\n"
   ]
  },
  {
   "cell_type": "code",
   "execution_count": 49,
   "metadata": {},
   "outputs": [
    {
     "data": {
      "text/plain": [
       "array([4, 4, 4, 4, 3, 3, 3, 3, 3, 3, 2, 2, 2, 2, 2, 2, 2, 2, 2, 2, 2, 2,\n",
       "       3, 3, 1, 1, 1, 2, 2, 2, 1, 0, 1, 1, 0, 0, 0, 2, 4], dtype=int32)"
      ]
     },
     "execution_count": 49,
     "metadata": {},
     "output_type": "execute_result"
    }
   ],
   "source": [
    "from sklearn.cluster import KMeans\n",
    "k=5\n",
    "toronto_clustering = data_toronto.drop(['Postal Code','Borough','Neighbourhood'],1)\n",
    "kmeans = KMeans(n_clusters = k,random_state=0).fit(toronto_clustering)\n",
    "kmeans.labels_"
   ]
  },
  {
   "cell_type": "code",
   "execution_count": 50,
   "metadata": {},
   "outputs": [
    {
     "data": {
      "text/html": [
       "<div>\n",
       "<style scoped>\n",
       "    .dataframe tbody tr th:only-of-type {\n",
       "        vertical-align: middle;\n",
       "    }\n",
       "\n",
       "    .dataframe tbody tr th {\n",
       "        vertical-align: top;\n",
       "    }\n",
       "\n",
       "    .dataframe thead th {\n",
       "        text-align: right;\n",
       "    }\n",
       "</style>\n",
       "<table border=\"1\" class=\"dataframe\">\n",
       "  <thead>\n",
       "    <tr style=\"text-align: right;\">\n",
       "      <th></th>\n",
       "      <th>Cluster Labels</th>\n",
       "      <th>Postal Code</th>\n",
       "      <th>Borough</th>\n",
       "      <th>Neighbourhood</th>\n",
       "      <th>Latitude</th>\n",
       "      <th>Longitude</th>\n",
       "    </tr>\n",
       "  </thead>\n",
       "  <tbody>\n",
       "    <tr>\n",
       "      <th>37</th>\n",
       "      <td>4</td>\n",
       "      <td>M4E</td>\n",
       "      <td>East Toronto</td>\n",
       "      <td>The Beaches</td>\n",
       "      <td>43.676357</td>\n",
       "      <td>-79.293031</td>\n",
       "    </tr>\n",
       "    <tr>\n",
       "      <th>41</th>\n",
       "      <td>4</td>\n",
       "      <td>M4K</td>\n",
       "      <td>East Toronto</td>\n",
       "      <td>The Danforth West, Riverdale</td>\n",
       "      <td>43.679557</td>\n",
       "      <td>-79.352188</td>\n",
       "    </tr>\n",
       "    <tr>\n",
       "      <th>42</th>\n",
       "      <td>4</td>\n",
       "      <td>M4L</td>\n",
       "      <td>East Toronto</td>\n",
       "      <td>India Bazaar, The Beaches West</td>\n",
       "      <td>43.668999</td>\n",
       "      <td>-79.315572</td>\n",
       "    </tr>\n",
       "    <tr>\n",
       "      <th>43</th>\n",
       "      <td>4</td>\n",
       "      <td>M4M</td>\n",
       "      <td>East Toronto</td>\n",
       "      <td>Studio District</td>\n",
       "      <td>43.659526</td>\n",
       "      <td>-79.340923</td>\n",
       "    </tr>\n",
       "    <tr>\n",
       "      <th>44</th>\n",
       "      <td>2</td>\n",
       "      <td>M4N</td>\n",
       "      <td>Central Toronto</td>\n",
       "      <td>Lawrence Park</td>\n",
       "      <td>43.728020</td>\n",
       "      <td>-79.388790</td>\n",
       "    </tr>\n",
       "  </tbody>\n",
       "</table>\n",
       "</div>"
      ],
      "text/plain": [
       "    Cluster Labels Postal Code          Borough  \\\n",
       "37               4         M4E     East Toronto   \n",
       "41               4         M4K     East Toronto   \n",
       "42               4         M4L     East Toronto   \n",
       "43               4         M4M     East Toronto   \n",
       "44               2         M4N  Central Toronto   \n",
       "\n",
       "                     Neighbourhood   Latitude  Longitude  \n",
       "37                     The Beaches  43.676357 -79.293031  \n",
       "41    The Danforth West, Riverdale  43.679557 -79.352188  \n",
       "42  India Bazaar, The Beaches West  43.668999 -79.315572  \n",
       "43                 Studio District  43.659526 -79.340923  \n",
       "44                   Lawrence Park  43.728020 -79.388790  "
      ]
     },
     "execution_count": 50,
     "metadata": {},
     "output_type": "execute_result"
    }
   ],
   "source": [
    "data_toronto.head()"
   ]
  },
  {
   "cell_type": "code",
   "execution_count": 53,
   "metadata": {},
   "outputs": [
    {
     "data": {
      "text/html": [
       "<div style=\"width:100%;\"><div style=\"position:relative;width:100%;height:0;padding-bottom:60%;\"><span style=\"color:#565656\">Make this Notebook Trusted to load map: File -> Trust Notebook</span><iframe src=\"about:blank\" style=\"position:absolute;width:100%;height:100%;left:0;top:0;border:none !important;\" data-html=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 onload=\"this.contentDocument.open();this.contentDocument.write(atob(this.getAttribute('data-html')));this.contentDocument.close();\" allowfullscreen webkitallowfullscreen mozallowfullscreen></iframe></div></div>"
      ],
      "text/plain": [
       "<folium.folium.Map at 0x7f1a3f8b2e10>"
      ]
     },
     "execution_count": 53,
     "metadata": {},
     "output_type": "execute_result"
    }
   ],
   "source": [
    "import matplotlib.cm as cm\n",
    "import matplotlib.colors as colors\n",
    "map_clusters = folium.Map(location=[43.651070,-79.347015],zoom_start=10)\n",
    "x = np.arange(k)\n",
    "ys = [i + x + (i*x)**2 for i in range(k)]\n",
    "colors_array = cm.rainbow(np.linspace(0, 1, len(ys)))\n",
    "rainbow = [colors.rgb2hex(i) for i in colors_array]\n",
    "markers_colors = []\n",
    "for lat, lon, neighbourhood, cluster in zip(data_toronto['Latitude'],data_toronto['Longitude'], data_toronto['Neighbourhood'], data_toronto['Cluster Labels']):\n",
    "    label = folium.Popup(' Cluster ' + str(cluster), parse_html=True)\n",
    "    folium.CircleMarker(\n",
    "        [lat, lon],\n",
    "        radius=5,\n",
    "        popup=label,\n",
    "        color=rainbow[cluster-1],\n",
    "        fill=True,\n",
    "        fill_color=rainbow[cluster-1],\n",
    "        fill_opacity=0.7).add_to(map_clusters)\n",
    "       \n",
    "map_clusters\n"
   ]
  },
  {
   "cell_type": "code",
   "execution_count": null,
   "metadata": {},
   "outputs": [],
   "source": []
  }
 ],
 "metadata": {
  "kernelspec": {
   "display_name": "Python 3.7",
   "language": "python",
   "name": "python3"
  },
  "language_info": {
   "codemirror_mode": {
    "name": "ipython",
    "version": 3
   },
   "file_extension": ".py",
   "mimetype": "text/x-python",
   "name": "python",
   "nbconvert_exporter": "python",
   "pygments_lexer": "ipython3",
   "version": "3.7.9"
  }
 },
 "nbformat": 4,
 "nbformat_minor": 1
}
